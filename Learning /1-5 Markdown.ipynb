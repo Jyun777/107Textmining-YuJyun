{
 "cells": [
  {
   "cell_type": "markdown",
   "metadata": {},
   "source": [
    "自由做筆記！"
   ]
  },
  {
   "cell_type": "markdown",
   "metadata": {},
   "source": [
    "# 大標題 使用#來決定標題大小\n",
    "## 中標題\n",
    "### 小標題\n",
    "\n",
    "內文在這裡"
   ]
  },
  {
   "cell_type": "markdown",
   "metadata": {},
   "source": [
    "## 分項說明\n",
    "* Python\n",
    "* Jupyter Notebook\n",
    "* Numpy\n",
    "* Pandas\n",
    "* Matplotlib"
   ]
  },
  {
   "cell_type": "markdown",
   "metadata": {},
   "source": [
    "## 連結\n",
    "\n",
    "[台大Ceiba](https://ceiba.ntu.edu.tw/)\n",
    "\n",
    "[ 內容文字 ] ( 網址 )\n",
    "\n",
    "Control + m 切換到Markdown"
   ]
  },
  {
   "cell_type": "markdown",
   "metadata": {},
   "source": [
    "## 插入圖片\n",
    "![可愛臭屁桃](cute.jpg)\n",
    "\n",
    "![網路屁桃](https://61a2c333-a-62cb3a1a-s-sites.googlegroups.com/site/123456aaxiao/chou-pi-tao-hao-kou-ai/%E4%B8%8B%E8%BC%89%20%282%29.jpg?attachauth=ANoY7cqm3Vbb0uziNjfsskZOalxYYCwJUzy7CBZ_T5pLKufyMhUsFXh1PGoBUSnXMfHvuqMO-SOnksXj-sdvTmDD3TPdcC2N5vXBLGUpGVtIJDNTGbJA1dVHs1Y1yi3P-OKWZzxO47hdGPgyDTi3rjuJ5ji27DmiabexQWa85pr7Vl2zuOWOKV1ZgdWNJ3Yj6rXPIEZoZ1mV4iWddp3Bv90fkDz6NjkNagnQe8I-I7Re4uf_vUjM6wV5SHk3g0QC_YVKuWdSawWMh4M9mh-pPvNINAawADISLg%3D%3D&attredirects=0)\n",
    "\n",
    "![ 圖片名稱 ] (網址或同資料夾圖片之檔名)"
   ]
  },
  {
   "cell_type": "markdown",
   "metadata": {},
   "source": [
    "## 數學符號\n",
    "\n",
    "我們有一個函數 $f(x)=x^3-2x^2+5$, 我想給它積分:\n",
    "\n",
    "$$\\int_a^b f(x)\\, dx $$\n",
    "\n",
    "前後給＄,＄符號, 讓數字呈現數學式樣式\n",
    "\n",
    "給一個錢 ＄＄, ＄＄ 會使數學式置中 ($)\n",
    "\n",
    "### LaTex \n",
    "### LaTexMathShort\n",
    "可以找到更多數學符號的LaTex語法"
   ]
  }
 ],
 "metadata": {
  "kernelspec": {
   "display_name": "Python 3",
   "language": "python",
   "name": "python3"
  },
  "language_info": {
   "codemirror_mode": {
    "name": "ipython",
    "version": 3
   },
   "file_extension": ".py",
   "mimetype": "text/x-python",
   "name": "python",
   "nbconvert_exporter": "python",
   "pygments_lexer": "ipython3",
   "version": "3.7.1"
  }
 },
 "nbformat": 4,
 "nbformat_minor": 2
}

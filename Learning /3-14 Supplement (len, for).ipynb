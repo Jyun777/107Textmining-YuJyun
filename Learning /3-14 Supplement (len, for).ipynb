{
 "cells": [
  {
   "cell_type": "markdown",
   "metadata": {},
   "source": [
    "### len, for迴圈使用"
   ]
  },
  {
   "cell_type": "code",
   "execution_count": 9,
   "metadata": {},
   "outputs": [
    {
     "data": {
      "text/plain": [
       "'今天是2019年3月6日'"
      ]
     },
     "execution_count": 9,
     "metadata": {},
     "output_type": "execute_result"
    }
   ],
   "source": [
    "s = \"今天是2019年3月6日\"\n",
    "s"
   ]
  },
  {
   "cell_type": "code",
   "execution_count": 3,
   "metadata": {},
   "outputs": [
    {
     "name": "stdout",
     "output_type": "stream",
     "text": [
      "12\n"
     ]
    }
   ],
   "source": [
    "print(len(s))"
   ]
  },
  {
   "cell_type": "code",
   "execution_count": 4,
   "metadata": {},
   "outputs": [
    {
     "name": "stdout",
     "output_type": "stream",
     "text": [
      "i: 0  字串= 今\n",
      "i: 1  字串= 天\n",
      "i: 2  字串= 是\n",
      "i: 3  字串= 2\n",
      "i: 4  字串= 0\n",
      "i: 5  字串= 1\n",
      "i: 6  字串= 9\n",
      "i: 7  字串= 年\n",
      "i: 8  字串= 3\n",
      "i: 9  字串= 月\n",
      "i: 10  字串= 6\n",
      "i: 11  字串= 日\n"
     ]
    }
   ],
   "source": [
    "for i in range(len(s)):\n",
    "    print(\"i:\", i, \" 字串=\", s[i])"
   ]
  },
  {
   "cell_type": "code",
   "execution_count": 5,
   "metadata": {},
   "outputs": [],
   "source": [
    "s2 = [\"今\",\"天\",'是','2','0','1','9','年','3','月','6','日']"
   ]
  },
  {
   "cell_type": "code",
   "execution_count": 7,
   "metadata": {},
   "outputs": [
    {
     "name": "stdout",
     "output_type": "stream",
     "text": [
      "12\n"
     ]
    }
   ],
   "source": [
    "print(len(s2))"
   ]
  },
  {
   "cell_type": "code",
   "execution_count": 8,
   "metadata": {},
   "outputs": [
    {
     "name": "stdout",
     "output_type": "stream",
     "text": [
      "i: 0  字串= 今\n",
      "i: 1  字串= 天\n",
      "i: 2  字串= 是\n",
      "i: 3  字串= 2\n",
      "i: 4  字串= 0\n",
      "i: 5  字串= 1\n",
      "i: 6  字串= 9\n",
      "i: 7  字串= 年\n",
      "i: 8  字串= 3\n",
      "i: 9  字串= 月\n",
      "i: 10  字串= 6\n",
      "i: 11  字串= 日\n"
     ]
    }
   ],
   "source": [
    "for i in range(len(s2)):\n",
    "    print(\"i:\", i, \" 字串=\", s[i])"
   ]
  },
  {
   "cell_type": "markdown",
   "metadata": {},
   "source": [
    "## tab的重要性"
   ]
  },
  {
   "cell_type": "code",
   "execution_count": 10,
   "metadata": {},
   "outputs": [],
   "source": [
    "import numpy as np"
   ]
  },
  {
   "cell_type": "code",
   "execution_count": 11,
   "metadata": {},
   "outputs": [],
   "source": [
    "a = np.zeros([3,3])"
   ]
  },
  {
   "cell_type": "code",
   "execution_count": 14,
   "metadata": {},
   "outputs": [
    {
     "name": "stdout",
     "output_type": "stream",
     "text": [
      "i: 0 j: 0\n",
      "i: 0 j: 1\n",
      "i: 0 j: 2\n",
      "i: 1 j: 0\n",
      "i: 1 j: 1\n",
      "i: 1 j: 2\n",
      "i: 2 j: 0\n",
      "i: 2 j: 1\n",
      "i: 2 j: 2\n",
      "[[0. 0. 0.]\n",
      " [0. 1. 2.]\n",
      " [0. 2. 4.]]\n"
     ]
    }
   ],
   "source": [
    "for i in range(3):\n",
    "    for j in range(3):\n",
    "        print(\"i:\", i, \"j:\", j)\n",
    "        a[i][j]=i*j\n",
    "\n",
    "print(a)"
   ]
  }
 ],
 "metadata": {
  "kernelspec": {
   "display_name": "Python 3",
   "language": "python",
   "name": "python3"
  },
  "language_info": {
   "codemirror_mode": {
    "name": "ipython",
    "version": 3
   },
   "file_extension": ".py",
   "mimetype": "text/x-python",
   "name": "python",
   "nbconvert_exporter": "python",
   "pygments_lexer": "ipython3",
   "version": "3.7.1"
  }
 },
 "nbformat": 4,
 "nbformat_minor": 2
}

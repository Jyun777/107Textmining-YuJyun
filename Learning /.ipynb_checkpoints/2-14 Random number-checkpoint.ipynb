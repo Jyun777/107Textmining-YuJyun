{
 "cells": [
  {
   "cell_type": "code",
   "execution_count": 9,
   "metadata": {},
   "outputs": [
    {
     "name": "stdout",
     "output_type": "stream",
     "text": [
      "Populating the interactive namespace from numpy and matplotlib\n"
     ]
    }
   ],
   "source": [
    "%pylab inline"
   ]
  },
  {
   "cell_type": "code",
   "execution_count": 4,
   "metadata": {},
   "outputs": [
    {
     "data": {
      "text/plain": [
       "17"
      ]
     },
     "execution_count": 4,
     "metadata": {},
     "output_type": "execute_result"
    }
   ],
   "source": [
    "randint(3,21)"
   ]
  },
  {
   "cell_type": "code",
   "execution_count": 5,
   "metadata": {},
   "outputs": [
    {
     "name": "stdout",
     "output_type": "stream",
     "text": [
      "                          *\n",
      "                                  *\n",
      "     *\n",
      "             *\n",
      "                                        *\n",
      "                             *\n",
      "              *\n",
      "    *\n",
      "                                        *\n",
      "                              *\n"
     ]
    }
   ],
   "source": [
    "for i in range(10):\n",
    "    k = randint(1,50)\n",
    "    print(\" \"*k + \"*\")"
   ]
  },
  {
   "cell_type": "markdown",
   "metadata": {},
   "source": [
    "## 猜數字遊戲\n",
    "電腦想一個數字亂數\n",
    "\n",
    "猜錯提示太大或太小 直到猜到為止"
   ]
  },
  {
   "cell_type": "code",
   "execution_count": 13,
   "metadata": {},
   "outputs": [
    {
     "name": "stdout",
     "output_type": "stream",
     "text": [
      "From 1 to 100, guess a number >> 103\n",
      "Error ><\n",
      "From 1 to 100, guess a number >> 59\n",
      "too large!\n",
      "From 1 to 100, guess a number >> 20\n",
      "too small!\n",
      "From 1 to 100, guess a number >> 43\n",
      "too large!\n",
      "From 1 to 100, guess a number >> 30\n",
      "too large!\n",
      "From 1 to 100, guess a number >> 25\n",
      "too small!\n",
      "From 1 to 100, guess a number >> 27\n",
      "Right!!\n"
     ]
    }
   ],
   "source": [
    "num = randint(1,101) \n",
    "guess = \"\"\n",
    "while guess != str(num):\n",
    "    guess = input(\"From 1 to 100, guess a number >> \")\n",
    "    if(int(guess)>100 or int(guess)<1):\n",
    "        print(\"Error ><\")\n",
    "    elif (int(guess) > num):\n",
    "        print(\"too large!\")\n",
    "    elif (int(guess) < num):\n",
    "        print(\"too small!\")\n",
    "    else:\n",
    "        print(\"Right!!\")"
   ]
  }
 ],
 "metadata": {
  "kernelspec": {
   "display_name": "Python 3",
   "language": "python",
   "name": "python3"
  },
  "language_info": {
   "codemirror_mode": {
    "name": "ipython",
    "version": 3
   },
   "file_extension": ".py",
   "mimetype": "text/x-python",
   "name": "python",
   "nbconvert_exporter": "python",
   "pygments_lexer": "ipython3",
   "version": "3.7.1"
  }
 },
 "nbformat": 4,
 "nbformat_minor": 2
}

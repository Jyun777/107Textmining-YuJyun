{
 "cells": [
  {
   "cell_type": "code",
   "execution_count": 1,
   "metadata": {},
   "outputs": [],
   "source": [
    "%matplotlib inline\n",
    "import numpy as np\n",
    "import matplotlib.pyplot as plt\n",
    "import pandas as pd"
   ]
  },
  {
   "cell_type": "markdown",
   "metadata": {},
   "source": [
    "# 安裝pandas-datareader"
   ]
  },
  {
   "cell_type": "code",
   "execution_count": 5,
   "metadata": {},
   "outputs": [],
   "source": [
    "df = web.DataReader(\"AAPL\",\"yahoo\",start=\"2012-9-1\", end=\"2017-8-31\")"
   ]
  },
  {
   "cell_type": "code",
   "execution_count": 6,
   "metadata": {},
   "outputs": [
    {
     "data": {
      "text/html": [
       "<div>\n",
       "<style scoped>\n",
       "    .dataframe tbody tr th:only-of-type {\n",
       "        vertical-align: middle;\n",
       "    }\n",
       "\n",
       "    .dataframe tbody tr th {\n",
       "        vertical-align: top;\n",
       "    }\n",
       "\n",
       "    .dataframe thead th {\n",
       "        text-align: right;\n",
       "    }\n",
       "</style>\n",
       "<table border=\"1\" class=\"dataframe\">\n",
       "  <thead>\n",
       "    <tr style=\"text-align: right;\">\n",
       "      <th></th>\n",
       "      <th>High</th>\n",
       "      <th>Low</th>\n",
       "      <th>Open</th>\n",
       "      <th>Close</th>\n",
       "      <th>Volume</th>\n",
       "      <th>Adj Close</th>\n",
       "    </tr>\n",
       "    <tr>\n",
       "      <th>Date</th>\n",
       "      <th></th>\n",
       "      <th></th>\n",
       "      <th></th>\n",
       "      <th></th>\n",
       "      <th></th>\n",
       "      <th></th>\n",
       "    </tr>\n",
       "  </thead>\n",
       "  <tbody>\n",
       "    <tr>\n",
       "      <th>2012-08-31</th>\n",
       "      <td>95.514282</td>\n",
       "      <td>93.892860</td>\n",
       "      <td>95.321426</td>\n",
       "      <td>95.034286</td>\n",
       "      <td>84580300.0</td>\n",
       "      <td>65.324036</td>\n",
       "    </tr>\n",
       "    <tr>\n",
       "      <th>2012-09-04</th>\n",
       "      <td>96.448570</td>\n",
       "      <td>94.928574</td>\n",
       "      <td>95.108574</td>\n",
       "      <td>96.424286</td>\n",
       "      <td>91973000.0</td>\n",
       "      <td>66.279495</td>\n",
       "    </tr>\n",
       "    <tr>\n",
       "      <th>2012-09-05</th>\n",
       "      <td>96.621429</td>\n",
       "      <td>95.657143</td>\n",
       "      <td>96.510002</td>\n",
       "      <td>95.747147</td>\n",
       "      <td>84093800.0</td>\n",
       "      <td>65.814034</td>\n",
       "    </tr>\n",
       "    <tr>\n",
       "      <th>2012-09-06</th>\n",
       "      <td>96.898575</td>\n",
       "      <td>95.828575</td>\n",
       "      <td>96.167145</td>\n",
       "      <td>96.610001</td>\n",
       "      <td>97799100.0</td>\n",
       "      <td>66.407150</td>\n",
       "    </tr>\n",
       "    <tr>\n",
       "      <th>2012-09-07</th>\n",
       "      <td>97.497147</td>\n",
       "      <td>96.538574</td>\n",
       "      <td>96.864288</td>\n",
       "      <td>97.205711</td>\n",
       "      <td>82416600.0</td>\n",
       "      <td>66.816620</td>\n",
       "    </tr>\n",
       "  </tbody>\n",
       "</table>\n",
       "</div>"
      ],
      "text/plain": [
       "                 High        Low       Open      Close      Volume  Adj Close\n",
       "Date                                                                         \n",
       "2012-08-31  95.514282  93.892860  95.321426  95.034286  84580300.0  65.324036\n",
       "2012-09-04  96.448570  94.928574  95.108574  96.424286  91973000.0  66.279495\n",
       "2012-09-05  96.621429  95.657143  96.510002  95.747147  84093800.0  65.814034\n",
       "2012-09-06  96.898575  95.828575  96.167145  96.610001  97799100.0  66.407150\n",
       "2012-09-07  97.497147  96.538574  96.864288  97.205711  82416600.0  66.816620"
      ]
     },
     "execution_count": 6,
     "metadata": {},
     "output_type": "execute_result"
    }
   ],
   "source": [
    "df.head()"
   ]
  },
  {
   "cell_type": "code",
   "execution_count": 20,
   "metadata": {},
   "outputs": [],
   "source": [
    "P = df[\"Adj Close\"]"
   ]
  },
  {
   "cell_type": "code",
   "execution_count": 9,
   "metadata": {},
   "outputs": [
    {
     "data": {
      "text/plain": [
       "Date\n",
       "2012-08-31    65.324036\n",
       "2012-09-04    66.279495\n",
       "2012-09-05    65.814034\n",
       "2012-09-06    66.407150\n",
       "2012-09-07    66.816620\n",
       "Name: Adj Close, dtype: float64"
      ]
     },
     "execution_count": 9,
     "metadata": {},
     "output_type": "execute_result"
    }
   ],
   "source": [
    "P.head()"
   ]
  },
  {
   "cell_type": "markdown",
   "metadata": {},
   "source": [
    "### 變成一個series，可以直接畫圖"
   ]
  },
  {
   "cell_type": "code",
   "execution_count": 10,
   "metadata": {},
   "outputs": [
    {
     "data": {
      "text/plain": [
       "<matplotlib.axes._subplots.AxesSubplot at 0x1132b6908>"
      ]
     },
     "execution_count": 10,
     "metadata": {},
     "output_type": "execute_result"
    },
    {
     "data": {
      "image/png": "[encoded data removed]",
      "text/plain": [
       "<Figure size 432x288 with 1 Axes>"
      ]
     },
     "metadata": {
      "needs_background": "light"
     },
     "output_type": "display_data"
    }
   ],
   "source": [
    "P.plot()"
   ]
  },
  {
   "cell_type": "code",
   "execution_count": 13,
   "metadata": {},
   "outputs": [
    {
     "data": {
      "text/plain": [
       "Date\n",
       "2012-08-31         NaN\n",
       "2012-09-04    0.955460\n",
       "2012-09-05   -0.465462\n",
       "2012-09-06    0.593117\n",
       "2012-09-07    0.409470\n",
       "2012-09-10   -1.738068\n",
       "2012-09-11   -0.211121\n",
       "2012-09-12    0.903419\n",
       "2012-09-13    1.295204\n",
       "2012-09-14    0.815010\n",
       "2012-09-17    0.834686\n",
       "2012-09-18    0.209167\n",
       "2012-09-19    0.018646\n",
       "2012-09-20   -0.333893\n",
       "2012-09-21    0.136505\n",
       "2012-09-24   -0.913208\n",
       "2012-09-25   -1.693901\n",
       "2012-09-26   -0.820915\n",
       "2012-09-27    1.584877\n",
       "2012-09-28   -1.396339\n",
       "2012-10-01   -0.757103\n",
       "2012-10-02    0.188553\n",
       "2012-10-03    0.995697\n",
       "2012-10-04   -0.456619\n",
       "2012-10-05   -1.395363\n",
       "2012-10-08   -1.415974\n",
       "2012-10-09   -0.227825\n",
       "2012-10-10    0.496872\n",
       "2012-10-11   -1.257900\n",
       "2012-10-12    0.158096\n",
       "                ...   \n",
       "2017-07-21   -0.068130\n",
       "2017-07-24    1.772034\n",
       "2017-07-25    0.632889\n",
       "2017-07-26    0.701065\n",
       "2017-07-27   -2.823654\n",
       "2017-07-28   -1.032089\n",
       "2017-07-31   -0.749741\n",
       "2017-08-01    1.285263\n",
       "2017-08-02    6.903275\n",
       "2017-08-03   -1.528641\n",
       "2017-08-04    0.798386\n",
       "2017-08-07    2.356293\n",
       "2017-08-08    1.236542\n",
       "2017-08-09    0.954178\n",
       "2017-08-10   -4.994949\n",
       "2017-08-11    2.111374\n",
       "2017-08-14    2.316666\n",
       "2017-08-15    1.710571\n",
       "2017-08-16   -0.635345\n",
       "2017-08-17   -3.020432\n",
       "2017-08-18   -0.351913\n",
       "2017-08-21   -0.283463\n",
       "2017-08-22    2.512131\n",
       "2017-08-23    0.195496\n",
       "2017-08-24   -0.694016\n",
       "2017-08-25    0.576706\n",
       "2017-08-28    1.573761\n",
       "2017-08-29    1.407593\n",
       "2017-08-30    0.430115\n",
       "2017-08-31    0.635345\n",
       "Name: Adj Close, Length: 1258, dtype: float64"
      ]
     },
     "execution_count": 13,
     "metadata": {},
     "output_type": "execute_result"
    }
   ],
   "source": [
    "P.diff()"
   ]
  },
  {
   "cell_type": "code",
   "execution_count": 14,
   "metadata": {},
   "outputs": [],
   "source": [
    "r = P.diff()/P"
   ]
  },
  {
   "cell_type": "code",
   "execution_count": 15,
   "metadata": {},
   "outputs": [
    {
     "data": {
      "text/plain": [
       "<matplotlib.axes._subplots.AxesSubplot at 0x113fc59e8>"
      ]
     },
     "execution_count": 15,
     "metadata": {},
     "output_type": "execute_result"
    },
    {
     "data": {
      "image/png": "[encoded data removed]",
      "text/plain": [
       "<Figure size 432x288 with 1 Axes>"
      ]
     },
     "metadata": {
      "needs_background": "light"
     },
     "output_type": "display_data"
    }
   ],
   "source": [
    "r.plot()"
   ]
  },
  {
   "cell_type": "code",
   "execution_count": 17,
   "metadata": {},
   "outputs": [
    {
     "data": {
      "text/plain": [
       "<matplotlib.axes._subplots.AxesSubplot at 0x113ffcb00>"
      ]
     },
     "execution_count": 17,
     "metadata": {},
     "output_type": "execute_result"
    },
    {
     "data": {
      "image/png": "[encoded data removed]",
      "text/plain": [
       "<Figure size 432x288 with 1 Axes>"
      ]
     },
     "metadata": {
      "needs_background": "light"
     },
     "output_type": "display_data"
    }
   ],
   "source": [
    "r[-100:].plot()"
   ]
  },
  {
   "cell_type": "markdown",
   "metadata": {},
   "source": [
    "## 100天前到現在的 plot\n",
    "# df.rolling(window=n)\n",
    "### 做移動平均\n",
    "window = 多少範圍要算一個"
   ]
  },
  {
   "cell_type": "code",
   "execution_count": 21,
   "metadata": {},
   "outputs": [
    {
     "data": {
      "text/plain": [
       "Date\n",
       "2012-08-31           NaN\n",
       "2012-09-04           NaN\n",
       "2012-09-05           NaN\n",
       "2012-09-06           NaN\n",
       "2012-09-07           NaN\n",
       "2012-09-10           NaN\n",
       "2012-09-11           NaN\n",
       "2012-09-12           NaN\n",
       "2012-09-13           NaN\n",
       "2012-09-14           NaN\n",
       "2012-09-17           NaN\n",
       "2012-09-18           NaN\n",
       "2012-09-19           NaN\n",
       "2012-09-20           NaN\n",
       "2012-09-21           NaN\n",
       "2012-09-24           NaN\n",
       "2012-09-25           NaN\n",
       "2012-09-26           NaN\n",
       "2012-09-27           NaN\n",
       "2012-09-28     66.847264\n",
       "2012-10-01     66.818542\n",
       "2012-10-02     66.751474\n",
       "2012-10-03     66.757465\n",
       "2012-10-04     66.710968\n",
       "2012-10-05     66.574230\n",
       "2012-10-08     66.453596\n",
       "2012-10-09     66.332128\n",
       "2012-10-10     66.190331\n",
       "2012-10-11     65.920880\n",
       "2012-10-12     65.618583\n",
       "                 ...    \n",
       "2017-07-21    142.557563\n",
       "2017-07-24    142.840411\n",
       "2017-07-25    143.177299\n",
       "2017-07-26    143.650989\n",
       "2017-07-27    143.881260\n",
       "2017-07-28    144.164597\n",
       "2017-07-31    144.393893\n",
       "2017-08-01    144.712769\n",
       "2017-08-02    145.348085\n",
       "2017-08-03    145.973178\n",
       "2017-08-04    146.567600\n",
       "2017-08-07    147.236996\n",
       "2017-08-08    147.945337\n",
       "2017-08-09    148.691163\n",
       "2017-08-10    149.088415\n",
       "2017-08-11    149.529408\n",
       "2017-08-14    150.060921\n",
       "2017-08-15    150.652644\n",
       "2017-08-16    151.166840\n",
       "2017-08-17    151.563117\n",
       "2017-08-18    151.945206\n",
       "2017-08-21    152.224519\n",
       "2017-08-22    152.597795\n",
       "2017-08-23    152.945792\n",
       "2017-08-24    153.400272\n",
       "2017-08-25    153.935191\n",
       "2017-08-28    154.586285\n",
       "2017-08-29    155.243495\n",
       "2017-08-30    155.577048\n",
       "2017-08-31    156.018800\n",
       "Name: Adj Close, Length: 1258, dtype: float64"
      ]
     },
     "execution_count": 21,
     "metadata": {},
     "output_type": "execute_result"
    }
   ],
   "source": [
    "P.rolling(window=20).mean()"
   ]
  },
  {
   "cell_type": "code",
   "execution_count": 24,
   "metadata": {},
   "outputs": [
    {
     "data": {
      "text/plain": [
       "<matplotlib.axes._subplots.AxesSubplot at 0x114672898>"
      ]
     },
     "execution_count": 24,
     "metadata": {},
     "output_type": "execute_result"
    },
    {
     "data": {
      "image/png": "[encoded data removed]",
      "text/plain": [
       "<Figure size 432x288 with 1 Axes>"
      ]
     },
     "metadata": {
      "needs_background": "light"
     },
     "output_type": "display_data"
    }
   ],
   "source": [
    "P.plot()\n",
    "P.rolling(window=20).mean().plot()\n",
    "P.rolling(window=60).mean().plot()"
   ]
  },
  {
   "cell_type": "code",
   "execution_count": 27,
   "metadata": {},
   "outputs": [
    {
     "data": {
      "text/plain": [
       "array([ 65.32403564,  66.27949524,  65.81403351, ..., 159.24250793,\n",
       "       159.67262268, 160.30796814])"
      ]
     },
     "execution_count": 27,
     "metadata": {},
     "output_type": "execute_result"
    }
   ],
   "source": [
    "P.values"
   ]
  },
  {
   "cell_type": "code",
   "execution_count": 28,
   "metadata": {},
   "outputs": [
    {
     "data": {
      "text/plain": [
       "Date\n",
       "2012-08-31     65.324036\n",
       "2012-09-04     66.279495\n",
       "2012-09-05     65.814034\n",
       "2012-09-06     66.407150\n",
       "2012-09-07     66.816620\n",
       "2012-09-10     65.078552\n",
       "2012-09-11     64.867432\n",
       "2012-09-12     65.770851\n",
       "2012-09-13     67.066055\n",
       "2012-09-14     67.881065\n",
       "2012-09-17     68.715752\n",
       "2012-09-18     68.924919\n",
       "2012-09-19     68.943565\n",
       "2012-09-20     68.609673\n",
       "2012-09-21     68.746178\n",
       "2012-09-24     67.832970\n",
       "2012-09-25     66.139069\n",
       "2012-09-26     65.318153\n",
       "2012-09-27     66.903030\n",
       "2012-09-28     65.506691\n",
       "2012-10-01     64.749588\n",
       "2012-10-02     64.938141\n",
       "2012-10-03     65.933838\n",
       "2012-10-04     65.477219\n",
       "2012-10-05     64.081856\n",
       "2012-10-08     62.665882\n",
       "2012-10-09     62.438057\n",
       "2012-10-10     62.934929\n",
       "2012-10-11     61.677029\n",
       "2012-10-12     61.835125\n",
       "                 ...    \n",
       "2017-07-21    146.312531\n",
       "2017-07-24    148.084564\n",
       "2017-07-25    148.717453\n",
       "2017-07-26    149.418518\n",
       "2017-07-27    146.594864\n",
       "2017-07-28    145.562775\n",
       "2017-07-31    144.813034\n",
       "2017-08-01    146.098297\n",
       "2017-08-02    153.001572\n",
       "2017-08-03    151.472931\n",
       "2017-08-04    152.271317\n",
       "2017-08-07    154.627609\n",
       "2017-08-08    155.864151\n",
       "2017-08-09    156.818329\n",
       "2017-08-10    151.823380\n",
       "2017-08-11    153.934753\n",
       "2017-08-14    156.251419\n",
       "2017-08-15    157.961990\n",
       "2017-08-16    157.326645\n",
       "2017-08-17    154.306213\n",
       "2017-08-18    153.954300\n",
       "2017-08-21    153.670837\n",
       "2017-08-22    156.182968\n",
       "2017-08-23    156.378464\n",
       "2017-08-24    155.684448\n",
       "2017-08-25    156.261154\n",
       "2017-08-28    157.834915\n",
       "2017-08-29    159.242508\n",
       "2017-08-30    159.672623\n",
       "2017-08-31    160.307968\n",
       "Name: Adj Close, Length: 1258, dtype: float64"
      ]
     },
     "execution_count": 28,
     "metadata": {},
     "output_type": "execute_result"
    }
   ],
   "source": [
    "P"
   ]
  }
 ],
 "metadata": {
  "kernelspec": {
   "display_name": "Python 3",
   "language": "python",
   "name": "python3"
  },
  "language_info": {
   "codemirror_mode": {
    "name": "ipython",
    "version": 3
   },
   "file_extension": ".py",
   "mimetype": "text/x-python",
   "name": "python",
   "nbconvert_exporter": "python",
   "pygments_lexer": "ipython3",
   "version": "3.7.1"
  }
 },
 "nbformat": 4,
 "nbformat_minor": 2
}
